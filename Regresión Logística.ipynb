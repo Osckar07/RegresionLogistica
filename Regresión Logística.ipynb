{
 "cells": [
  {
   "cell_type": "markdown",
   "metadata": {},
   "source": [
    "# Regresión logística"
   ]
  },
  {
   "cell_type": "markdown",
   "metadata": {},
   "source": [
    "¿Qué es la regresión logística?\n",
    "\n",
    "* La Regresión Logística es un algoritmo de clasificación, es un método útil para resolver problemas de claisifcacion binaria.\n",
    "\n",
    "* Es un metodo estadistico para predicir clases binarias. El resultado que se espera es de naturaleza dicotomica .\n",
    "\n",
    "* Es uno de los algoritmos de machine learning ,uno de los más simples y más utilizados para la clasificacaion de clases.\n"
   ]
  },
  {
   "cell_type": "markdown",
   "metadata": {},
   "source": [
    "### Ejemplos en lo que podemos utilizar la regresión logística"
   ]
  },
  {
   "cell_type": "markdown",
   "metadata": {},
   "source": [
    "                                                     DETERMINAR SI UN MENSAJE ES SPAM"
   ]
  },
  {
   "cell_type": "markdown",
   "metadata": {},
   "source": [
    "<img src= \"https://img.freepik.com/vector-gratis/icono-correo-electronico-no-deseado_24877-8910.jpg?size=338&ext=jpg\" width = 30% height = 30%>"
   ]
  },
  {
   "cell_type": "markdown",
   "metadata": {},
   "source": [
    "                                                   PREDICCIÓN SI UN PACIENTE TIENE DIABETES"
   ]
  },
  {
   "cell_type": "markdown",
   "metadata": {},
   "source": [
    "<img src= \"https://image.freepik.com/vector-gratis/analisis-sangre-diabeticos-diseno-plano_23-2147879099.jpg\" width = 30% height = 30% >"
   ]
  },
  {
   "cell_type": "markdown",
   "metadata": {},
   "source": [
    "                                                  LA COMPRA O NO DE UN ARTÍCULO DETERMINADO"
   ]
  },
  {
   "cell_type": "markdown",
   "metadata": {},
   "source": [
    "<img src= \"https://image.freepik.com/vector-gratis/productos-supermercado-cesta-compras_24877-23810.jpg\" width = 30% height = 30% >"
   ]
  },
  {
   "cell_type": "markdown",
   "metadata": {},
   "source": [
    "                                                    SABER SI UNA PERSONA VOTÓ O NO                       "
   ]
  },
  {
   "cell_type": "markdown",
   "metadata": {},
   "source": [
    "<img src= \"https://freepngimg.com/thumb/hand/76670-full-referendum-euclidean-vector-vote-voting.png\" width = 30% height = 30% >"
   ]
  },
  {
   "cell_type": "markdown",
   "metadata": {},
   "source": [
    "                                                         DETERMINAR EL TIPO DE VINO"
   ]
  },
  {
   "cell_type": "markdown",
   "metadata": {},
   "source": [
    "<img src= \"https://images.all-free-download.com/images/graphicthumb/wine_bottles_and_wineglass_vector_set_572344.jpg\" width = 30% height = 30% >"
   ]
  },
  {
   "cell_type": "markdown",
   "metadata": {},
   "source": [
    "                                                 SABER SI UN TUMOR ES BENIGNO O MALIGNO"
   ]
  },
  {
   "cell_type": "markdown",
   "metadata": {},
   "source": [
    " <img src= \"https://image.shutterstock.com/image-vector/vector-isolated-illustration-malignant-benign-260nw-1464338561.jpg\" width = 40% height = 40% >"
   ]
  },
  {
   "cell_type": "markdown",
   "metadata": {},
   "source": [
    "## ¡Cosas que debemos saber antes de utilizar la regresión logística!"
   ]
  },
  {
   "cell_type": "markdown",
   "metadata": {},
   "source": [
    " ### ¿Como funciona la regresión logística"
   ]
  },
  {
   "cell_type": "markdown",
   "metadata": {},
   "source": [
    "La regresión logística funciona gracias a la función \"SIGMOIDE\", la cual se muestra como una curva en forma de S que puede tomar cualquier numero de \n",
    "valor real y asignar un valor de 0 a 1. \n",
    "\n",
    "* Si la curva va hacia infinito positiva la prediccion se convertira en 1 .\n",
    "* Si la curva va hacia infinito negativo la prediccion se convertia en 0.\n"
   ]
  },
  {
   "cell_type": "markdown",
   "metadata": {},
   "source": [
    "Veamoslo de manera más grafica"
   ]
  },
  {
   "cell_type": "markdown",
   "metadata": {},
   "source": [
    "<img src= \"https://www.analyticslane.com/wp-content/uploads/2018/07/regresion_logistica.png\" width = 52% height = 52% >"
   ]
  },
  {
   "cell_type": "markdown",
   "metadata": {},
   "source": [
    "## Pero, ¿Como trabaja la función Sigmoide?"
   ]
  },
  {
   "cell_type": "markdown",
   "metadata": {},
   "source": [
    "* Regresión logistica = Regresión lineal + Función Sigmoide\n",
    "\n",
    "La función sigmoide recibe a la regresión lineal, y si nos devuelve O sea todas las entradas que dan un valor positivo van a tener como salida  y = 1\n",
    "\n",
    "Si los valores que se le pasan a la función sigmoide estan en la parte negativa entonces nos devolver un número menor a 0.5 por lo tanto su salida será\n",
    "y = 0"
   ]
  },
  {
   "cell_type": "markdown",
   "metadata": {},
   "source": [
    "<img src= \"imagenes/captura1.PNG\" width = 70% height = 70% >"
   ]
  },
  {
   "cell_type": "markdown",
   "metadata": {},
   "source": [
    "Ahora veamos la relación entre regresión lineal y regresión logística"
   ]
  },
  {
   "cell_type": "markdown",
   "metadata": {},
   "source": [
    "<img src= \"imagenes/captura2.PNG\" width = 57% height = 57% >"
   ]
  },
  {
   "cell_type": "markdown",
   "metadata": {},
   "source": [
    "<img src= \"imagenes/captura2.5.PNG\" width = 57% height = 57% >"
   ]
  },
  {
   "cell_type": "markdown",
   "metadata": {},
   "source": [
    "### ¿Cuál es la diferencia entre Regresión Logística y regresión Lineal?"
   ]
  },
  {
   "cell_type": "markdown",
   "metadata": {},
   "source": [
    "<img src= \"imagenes/captura4.PNG\" width = 70% height = 70% >"
   ]
  },
  {
   "cell_type": "markdown",
   "metadata": {},
   "source": [
    "### ¿Cuales son los tipos de Regresión Logística que existen?"
   ]
  },
  {
   "cell_type": "markdown",
   "metadata": {},
   "source": [
    "<img src= \"imagenes/captura5.PNG\" width = 70% height = 70% >"
   ]
  },
  {
   "cell_type": "code",
   "execution_count": null,
   "metadata": {},
   "outputs": [],
   "source": []
  }
 ],
 "metadata": {
  "kernelspec": {
   "display_name": "Python 3",
   "language": "python",
   "name": "python3"
  },
  "language_info": {
   "codemirror_mode": {
    "name": "ipython",
    "version": 3
   },
   "file_extension": ".py",
   "mimetype": "text/x-python",
   "name": "python",
   "nbconvert_exporter": "python",
   "pygments_lexer": "ipython3",
   "version": "3.8.1"
  }
 },
 "nbformat": 4,
 "nbformat_minor": 4
}
